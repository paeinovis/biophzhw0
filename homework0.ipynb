{
 "cells": [
  {
   "cell_type": "code",
   "execution_count": 115,
   "outputs": [],
   "source": [
    "import math\n",
    "from symtable import Symbol\n",
    "import pandas as pd\n",
    "import matplotlib.pyplot as plt\n",
    "import numpy as np\n",
    "import scipy as sp\n",
    "import sympy as sym\n",
    "from scipy.optimize import curve_fit\n",
    "from sympy import symbols"
   ],
   "metadata": {
    "collapsed": false,
    "pycharm": {
     "name": "#%%\n"
    }
   }
  },
  {
   "cell_type": "markdown",
   "metadata": {},
   "source": [
    "# Homework 0\n",
    "## Use numerical integration to find the area of a circle."
   ]
  },
  {
   "cell_type": "markdown",
   "metadata": {},
   "source": [
    "1. Consider a circle $x^2 + y^2 = r^2$. Plot the circle with radius $r = 1$."
   ]
  },
  {
   "cell_type": "code",
   "execution_count": 116,
   "metadata": {},
   "outputs": [
    {
     "data": {
      "text/plain": "<Figure size 432x288 with 1 Axes>",
      "image/png": "[encoded data removed]"
     },
     "metadata": {
      "needs_background": "light"
     },
     "output_type": "display_data"
    }
   ],
   "source": [
    "r = 1\n",
    "numPoints = 100\n",
    "\n",
    "x = np.linspace(-r, r, numPoints)\n",
    "\n",
    "def circle(r, x):\n",
    "    return math.sqrt(r ** 2 - x ** 2)\n",
    "vectCircle = np.vectorize(circle)       # Somehow looks more like an oval than a circle...\n",
    "\n",
    "y = vectCircle(r, x)\n",
    "\n",
    "plt.plot(x, y, \"b\")                     # Plots positive values of square root\n",
    "plt.plot(x, -y, \"b\")                    # Plots negative values of square root\n",
    "plt.gca().set_aspect(\"equal\")           # More or less copied from Sam Bishop in class; just makes it look more circular\n",
    "plt.axhline(y = 0, color = \"black\")     # Plots x axis\n",
    "plt.axvline(x = 0, color = \"black\")     # Plots y axis\n",
    "plt.show()"
   ]
  },
  {
   "cell_type": "markdown",
   "metadata": {},
   "source": [
    "2. Use Riemann sums to calculate the area of the circle. (Use a sufficiently large number of partitions.)"
   ]
  },
  {
   "cell_type": "code",
   "execution_count": 117,
   "metadata": {},
   "outputs": [
    {
     "name": "stdout",
     "output_type": "stream",
     "text": [
      "3.1200544843981084\n"
     ]
    }
   ],
   "source": [
    "areaSum = 0\n",
    "numToPartition = 100                      # Obtaining the number and width of rectangles to partition circle of\n",
    "partitionValue = r / numToPartition       # This is only looking at one quarter of the circle\n",
    "i = 0                                     # Therefore will need to be quadrupled at the end for the total area\n",
    "arrayStart = numPoints // 2               # Grabs first positive value index of x array\n",
    "xValue = x[arrayStart]                    # Gets the value itself from aforementioned index\n",
    "\n",
    "for i in range(numToPartition - 1):\n",
    "    areaRect = circle(r, xValue) * partitionValue   # Gets area of next rectangle\n",
    "    areaSum += areaRect                             # Adds area of rectangle to total sum\n",
    "    xValue += partitionValue                        # Gets next x value to evaluate y at\n",
    "\n",
    "areaSum *= 4\n",
    "print(areaSum)"
   ]
  },
  {
   "cell_type": "markdown",
   "metadata": {},
   "source": [
    "3. Define a python function to calculate the circular area for any given radius $r$."
   ]
  },
  {
   "cell_type": "code",
   "execution_count": 118,
   "metadata": {},
   "outputs": [],
   "source": [
    "# I think I already did this since I try to not hardcode anything\n",
    "def area(r, numToPartition = 100, numPoints = 100):\n",
    "    x = np.linspace(-r, r, numPoints)\n",
    "\n",
    "    areaSum = 0\n",
    "    partitionValue = r / numToPartition       # This is only looking at one quarter of the circle\n",
    "    i = 0                                     # Therefore will need to be quadrupled at the end for the total area\n",
    "    arrayStart = numPoints // 2               # Grabs first positive value index of x array\n",
    "    xValue = x[arrayStart]                    # Gets the value itself from aforementioned index\n",
    "\n",
    "    for i in range(numToPartition - 1):\n",
    "        areaRect = circle(r, xValue) * partitionValue   # Gets area of next rectangle\n",
    "        areaSum += areaRect                             # Adds area of rectangle to total sum\n",
    "        xValue += partitionValue                        # Gets next x value to evaluate y at\n",
    "\n",
    "    areaSum *= 4\n",
    "    return areaSum"
   ]
  },
  {
   "cell_type": "markdown",
   "metadata": {},
   "source": [
    "4. Plot the area with respect to the radius. Do you recover the formula $A = \\pi r^2$?"
   ]
  },
  {
   "cell_type": "code",
   "execution_count": 119,
   "metadata": {},
   "outputs": [
    {
     "name": "stdout",
     "output_type": "stream",
     "text": [
      "Line of best fit:  3.120054484398108  * r ^  2.0000000000000004\n"
     ]
    },
    {
     "data": {
      "text/plain": "<Figure size 432x288 with 1 Axes>",
      "image/png": "[encoded data removed]"
     },
     "metadata": {
      "needs_background": "light"
     },
     "output_type": "display_data"
    }
   ],
   "source": [
    "rArray = np.linspace(1, 100, 100)           # Defines arbitrary range of array for test values to plot\n",
    "areaVect = np.vectorize(area)\n",
    "yValues = areaVect(r = rArray)\n",
    "plt.plot(rArray, yValues)\n",
    "\n",
    "def bestFit(x, a, b):\n",
    "    return a*np.power(x, b)\n",
    "\n",
    "params, notimportantvar = curve_fit(bestFit, rArray, yValues)\n",
    "a, b = params\n",
    "print(\"Line of best fit: \", a, \" * r ^ \", b) # Close to recovering pi * r ^ 2; increasing sample size would increase accuracy"
   ]
  },
  {
   "cell_type": "markdown",
   "metadata": {},
   "source": [
    "5. (optional) Try to solve the same problem using the Monte Carlo method instead of the Riemann sums."
   ]
  },
  {
   "cell_type": "code",
   "execution_count": 119,
   "metadata": {},
   "outputs": [],
   "source": []
  },
  {
   "cell_type": "code",
   "execution_count": 119,
   "outputs": [],
   "source": [],
   "metadata": {
    "collapsed": false,
    "pycharm": {
     "name": "#%%\n"
    }
   }
  }
 ],
 "metadata": {
  "kernelspec": {
   "display_name": "Python 3",
   "language": "python",
   "name": "python3"
  },
  "language_info": {
   "codemirror_mode": {
    "name": "ipython",
    "version": 3
   },
   "file_extension": ".py",
   "mimetype": "text/x-python",
   "name": "python",
   "nbconvert_exporter": "python",
   "pygments_lexer": "ipython3",
   "version": "3.8.5"
  }
 },
 "nbformat": 4,
 "nbformat_minor": 4
}